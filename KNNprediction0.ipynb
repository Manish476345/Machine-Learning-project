{
  "nbformat": 4,
  "nbformat_minor": 0,
  "metadata": {
    "colab": {
      "name": "Untitled0.ipynb",
      "provenance": [],
      "authorship_tag": "ABX9TyOXmMzTNUmKfpHUJDDIQMjk",
      "include_colab_link": true
    },
    "kernelspec": {
      "name": "python3",
      "display_name": "Python 3"
    },
    "language_info": {
      "name": "python"
    }
  },
  "cells": [
    {
      "cell_type": "markdown",
      "metadata": {
        "id": "view-in-github",
        "colab_type": "text"
      },
      "source": [
        "<a href=\"https://colab.research.google.com/github/Manish476345/Machine-Learning-project/blob/main/KNNprediction0.ipynb\" target=\"_parent\"><img src=\"https://colab.research.google.com/assets/colab-badge.svg\" alt=\"Open In Colab\"/></a>"
      ]
    },
    {
      "cell_type": "code",
      "execution_count": null,
      "metadata": {
        "id": "WaMz_c37bkJy"
      },
      "outputs": [],
      "source": [
        "# Step 1 - Load Data\n",
        "import pandas as pd\n",
        "myfile = pd.read_csv(\"datasets.txt\")\n",
        "myfile.to_csv('datasets.csv', index = None ) \n",
        "X = myfile.iloc[:,:-1].values\n",
        "y = myfile.iloc[:, 3].values"
      ]
    },
    {
      "cell_type": "code",
      "source": [
        "# Step 2 - Convert Gender to number\n",
        "from sklearn.preprocessing import LabelEncoder\n",
        "labelEncoder_gender =  LabelEncoder()\n",
        "X[:,0] = labelEncoder_gender.fit_transform(X[:,0])\n",
        "print(X)"
      ],
      "metadata": {
        "id": "qB-XkjIQbuy9",
        "colab": {
          "base_uri": "https://localhost:8080/"
        },
        "outputId": "0de2734c-5830-46ff-8b20-207dffe54171"
      },
      "execution_count": null,
      "outputs": [
        {
          "output_type": "stream",
          "name": "stdout",
          "text": [
            "[[1.0e+00 1.9e+01 1.9e+04]\n",
            " [1.0e+00 3.5e+01 2.0e+04]\n",
            " [0.0e+00 2.6e+01 4.3e+04]\n",
            " ...\n",
            " [0.0e+00 5.0e+01 2.0e+04]\n",
            " [1.0e+00 3.6e+01 3.3e+04]\n",
            " [0.0e+00 4.9e+01 3.6e+04]]\n"
          ]
        }
      ]
    },
    {
      "cell_type": "code",
      "source": [
        "# Step 3 - Split into training and test data\n",
        "from sklearn.model_selection import train_test_split\n",
        "X_train, X_test, y_train, y_test = train_test_split(X, y, test_size=0.25, random_state=0)"
      ],
      "metadata": {
        "id": "tiu1Z0r6iwAo"
      },
      "execution_count": null,
      "outputs": []
    },
    {
      "cell_type": "code",
      "source": [
        "# Step 4 - Feature Scaling\n",
        "from sklearn.preprocessing import StandardScaler\n",
        "sc_X = StandardScaler()\n",
        "X_train = sc_X.fit_transform(X_train)\n",
        "X_test = sc_X.transform(X_test)"
      ],
      "metadata": {
        "id": "BVhzbXX-iyVW"
      },
      "execution_count": null,
      "outputs": []
    },
    {
      "cell_type": "code",
      "source": [
        "# Step 5 - Fit KNN Classifier\n",
        "from sklearn.neighbors import KNeighborsClassifier\n",
        "# metric = minkowski and p=2 is Euclidean Distance\n",
        "# metric = minkowski and p=1 is Manhattan Distance\n",
        "classifier = KNeighborsClassifier(n_neighbors=5, metric=\"minkowski\",p=2)\n",
        "classifier.fit(X_train, y_train)"
      ],
      "metadata": {
        "colab": {
          "base_uri": "https://localhost:8080/"
        },
        "id": "axN3W1MHi566",
        "outputId": "c7aade95-8ffe-47de-9e25-5366e93eb4a7"
      },
      "execution_count": null,
      "outputs": [
        {
          "output_type": "execute_result",
          "data": {
            "text/plain": [
              "KNeighborsClassifier()"
            ]
          },
          "metadata": {},
          "execution_count": 12
        }
      ]
    },
    {
      "cell_type": "code",
      "source": [
        "# Step 6 - Make Prediction\n",
        "y_pred = classifier.predict(X_test)"
      ],
      "metadata": {
        "id": "H6y_Qkdfi77h"
      },
      "execution_count": null,
      "outputs": []
    },
    {
      "cell_type": "code",
      "source": [
        "\n",
        "# Step 7 - Confusion Matrix\n",
        "from sklearn import metrics\n",
        "cm = metrics.confusion_matrix(y_test, y_pred) \n",
        "print(cm)\n",
        "accuracy = metrics.accuracy_score(y_test, y_pred) \n",
        "accuracy = 100*accuracy\n",
        "print(\"Accuracy score:\",accuracy)\n",
        "precision = metrics.precision_score(y_test, y_pred) \n",
        "precision = precision*100\n",
        "print(\"Precision score:\",precision)\n",
        "recall = metrics.recall_score(y_test, y_pred) \n",
        "recall = recall*100\n",
        "print(\"Recall score:\",recall)"
      ],
      "metadata": {
        "colab": {
          "base_uri": "https://localhost:8080/"
        },
        "id": "51rJpKWJjBfx",
        "outputId": "d469075d-3e7e-430b-cc37-e3b07a5833ca"
      },
      "execution_count": null,
      "outputs": [
        {
          "output_type": "stream",
          "name": "stdout",
          "text": [
            "[[64  4]\n",
            " [ 3 29]]\n",
            "Accuracy score: 93.0\n",
            "Precision score: 87.87878787878788\n",
            "Recall score: 90.625\n"
          ]
        }
      ]
    }
  ]
}